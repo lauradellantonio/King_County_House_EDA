{
 "cells": [
  {
   "cell_type": "markdown",
   "metadata": {},
   "source": [
    "# King County House Price Prediction"
   ]
  },
  {
   "cell_type": "code",
   "execution_count": 9,
   "metadata": {},
   "outputs": [],
   "source": [
    "import pandas as pd\n",
    "import statsmodels.api as sm\n",
    "from sklearn.model_selection import train_test_split\n",
    "from sklearn.metrics import mean_squared_error\n",
    "import numpy as np\n",
    "import warnings\n",
    "warnings.filterwarnings('ignore')\n",
    "\n",
    "import statsmodels.formula.api as smf\n"
   ]
  },
  {
   "cell_type": "code",
   "execution_count": 3,
   "metadata": {},
   "outputs": [],
   "source": [
    "king_county_house = pd.read_csv(\"data/King_County_House_prices_dataset.csv\", delimiter=\",\")"
   ]
  },
  {
   "cell_type": "code",
   "execution_count": 5,
   "metadata": {},
   "outputs": [],
   "source": [
    "# Set correct format\n",
    "king_county_house[\"id\"] = king_county_house[\"id\"].astype(\"str\")\n",
    "king_county_house[\"date\"] = pd.to_datetime(king_county_house[\"date\"]).dt.date\n",
    "king_county_house[\"price\"] = king_county_house[\"price\"].astype(\"int\")\n",
    "king_county_house[\"waterfront\"] = king_county_house[\"waterfront\"].astype(\"category\")\n",
    "king_county_house[\"view\"] = king_county_house[\"view\"].fillna(0).astype(\"int\")\n",
    "king_county_house[\"condition\"] = king_county_house[\"condition\"].astype(\"category\")\n",
    "king_county_house[\"grade\"] = king_county_house[\"grade\"].astype(\"category\")\n",
    "king_county_house[\"sqft_basement\"] = pd.to_numeric(king_county_house[\"sqft_basement\"], errors='coerce')\n",
    "king_county_house[\"zipcode\"] = king_county_house[\"zipcode\"].astype(\"category\")\n",
    "king_county_house[\"yr_renovated\"] = king_county_house[\"yr_renovated\"].fillna(0).astype(\"int\")\n",
    "\n",
    "# Remove outlier\n",
    "king_county_house = king_county_house[king_county_house[\"bedrooms\"] != 33]"
   ]
  },
  {
   "cell_type": "code",
   "execution_count": 6,
   "metadata": {},
   "outputs": [
    {
     "data": {
      "text/plain": [
       "Index(['id', 'date', 'price', 'bedrooms', 'bathrooms', 'sqft_living',\n",
       "       'sqft_lot', 'floors', 'waterfront', 'view', 'condition', 'grade',\n",
       "       'sqft_above', 'sqft_basement', 'yr_built', 'yr_renovated', 'zipcode',\n",
       "       'lat', 'long', 'sqft_living15', 'sqft_lot15'],\n",
       "      dtype='object')"
      ]
     },
     "execution_count": 6,
     "metadata": {},
     "output_type": "execute_result"
    }
   ],
   "source": [
    "king_county_house.columns"
   ]
  },
  {
   "cell_type": "code",
   "execution_count": 10,
   "metadata": {},
   "outputs": [
    {
     "data": {
      "text/html": [
       "<div>\n",
       "<style scoped>\n",
       "    .dataframe tbody tr th:only-of-type {\n",
       "        vertical-align: middle;\n",
       "    }\n",
       "\n",
       "    .dataframe tbody tr th {\n",
       "        vertical-align: top;\n",
       "    }\n",
       "\n",
       "    .dataframe thead th {\n",
       "        text-align: right;\n",
       "    }\n",
       "</style>\n",
       "<table border=\"1\" class=\"dataframe\">\n",
       "  <thead>\n",
       "    <tr style=\"text-align: right;\">\n",
       "      <th></th>\n",
       "      <th>adj_r-squared</th>\n",
       "    </tr>\n",
       "  </thead>\n",
       "  <tbody>\n",
       "    <tr>\n",
       "      <th>grade</th>\n",
       "      <td>0.519769</td>\n",
       "    </tr>\n",
       "    <tr>\n",
       "      <th>sqft_living</th>\n",
       "      <td>0.492681</td>\n",
       "    </tr>\n",
       "    <tr>\n",
       "      <th>sqft_above</th>\n",
       "      <td>0.366470</td>\n",
       "    </tr>\n",
       "    <tr>\n",
       "      <th>sqft_living15</th>\n",
       "      <td>0.342507</td>\n",
       "    </tr>\n",
       "    <tr>\n",
       "      <th>bathrooms</th>\n",
       "      <td>0.276553</td>\n",
       "    </tr>\n",
       "    <tr>\n",
       "      <th>view</th>\n",
       "      <td>0.154805</td>\n",
       "    </tr>\n",
       "    <tr>\n",
       "      <th>sqft_basement</th>\n",
       "      <td>0.105585</td>\n",
       "    </tr>\n",
       "    <tr>\n",
       "      <th>bedrooms</th>\n",
       "      <td>0.099789</td>\n",
       "    </tr>\n",
       "    <tr>\n",
       "      <th>lat</th>\n",
       "      <td>0.094015</td>\n",
       "    </tr>\n",
       "    <tr>\n",
       "      <th>waterfront</th>\n",
       "      <td>0.076292</td>\n",
       "    </tr>\n",
       "    <tr>\n",
       "      <th>floors</th>\n",
       "      <td>0.065913</td>\n",
       "    </tr>\n",
       "    <tr>\n",
       "      <th>yr_renovated</th>\n",
       "      <td>0.013845</td>\n",
       "    </tr>\n",
       "    <tr>\n",
       "      <th>sqft_lot</th>\n",
       "      <td>0.008032</td>\n",
       "    </tr>\n",
       "    <tr>\n",
       "      <th>sqft_lot15</th>\n",
       "      <td>0.006818</td>\n",
       "    </tr>\n",
       "    <tr>\n",
       "      <th>condition</th>\n",
       "      <td>0.006596</td>\n",
       "    </tr>\n",
       "    <tr>\n",
       "      <th>yr_built</th>\n",
       "      <td>0.002866</td>\n",
       "    </tr>\n",
       "  </tbody>\n",
       "</table>\n",
       "</div>"
      ],
      "text/plain": [
       "               adj_r-squared\n",
       "grade               0.519769\n",
       "sqft_living         0.492681\n",
       "sqft_above          0.366470\n",
       "sqft_living15       0.342507\n",
       "bathrooms           0.276553\n",
       "view                0.154805\n",
       "sqft_basement       0.105585\n",
       "bedrooms            0.099789\n",
       "lat                 0.094015\n",
       "waterfront          0.076292\n",
       "floors              0.065913\n",
       "yr_renovated        0.013845\n",
       "sqft_lot            0.008032\n",
       "sqft_lot15          0.006818\n",
       "condition           0.006596\n",
       "yr_built            0.002866"
      ]
     },
     "execution_count": 10,
     "metadata": {},
     "output_type": "execute_result"
    }
   ],
   "source": [
    "col_names = ['bedrooms', 'bathrooms', 'sqft_living', 'sqft_lot', 'floors', 'waterfront', 'view', 'condition', 'grade',\n",
    "       'sqft_above', 'sqft_basement', 'yr_built', 'yr_renovated', 'lat','sqft_living15', 'sqft_lot15']\n",
    "r_values = []\n",
    "\n",
    "for predictor in col_names:\n",
    "    r_values.append(smf.ols(formula=\"price ~ %s\" % predictor, data=king_county_house).fit().rsquared_adj)\n",
    "\n",
    "r_values = pd.DataFrame(r_values, col_names)\n",
    "r_values.columns = [\"adj_r-squared\"]\n",
    "r_values.sort_values(\"adj_r-squared\", ascending=False)"
   ]
  },
  {
   "cell_type": "code",
   "execution_count": 11,
   "metadata": {},
   "outputs": [
    {
     "name": "stdout",
     "output_type": "stream",
     "text": [
      "-----  Splitting the data in train and test ----\n",
      "-----  Training the model ----\n"
     ]
    }
   ],
   "source": [
    "# Feature selection\n",
    "X = king_county_house[[\"grade\", \"sqft_living\", \"sqft_above\", \"sqft_living15\", \"bathrooms\"]]\n",
    "Y = king_county_house[\"price\"]\n",
    "\n",
    "# Splitting data\n",
    "print(\"-----  Splitting the data in train and test ----\")\n",
    "X_train, X_test, y_train, y_test = train_test_split(X, Y, test_size=0.33, random_state=42)\n",
    "\n",
    "# Adding the constant\n",
    "X_train = sm.add_constant(X_train) # adding a constant\n",
    "X_test = sm.add_constant(X_test) # adding a constant\n",
    "\n",
    "# Training the model\n",
    "print(\"-----  Training the model ----\")\n",
    "model = sm.OLS(y_train, X_train).fit()\n",
    "print_model = model.summary()"
   ]
  },
  {
   "cell_type": "code",
   "execution_count": 12,
   "metadata": {},
   "outputs": [
    {
     "name": "stdout",
     "output_type": "stream",
     "text": [
      "-----  Evaluating the model ----\n",
      "                            OLS Regression Results                            \n",
      "==============================================================================\n",
      "Dep. Variable:                  price   R-squared:                       0.548\n",
      "Model:                            OLS   Adj. R-squared:                  0.548\n",
      "Method:                 Least Squares   F-statistic:                     3506.\n",
      "Date:                Sun, 18 Oct 2020   Prob (F-statistic):               0.00\n",
      "Time:                        22:34:00   Log-Likelihood:            -2.0031e+05\n",
      "No. Observations:               14469   AIC:                         4.006e+05\n",
      "Df Residuals:                   14463   BIC:                         4.007e+05\n",
      "Df Model:                           5                                         \n",
      "Covariance Type:            nonrobust                                         \n",
      "=================================================================================\n",
      "                    coef    std err          t      P>|t|      [0.025      0.975]\n",
      "---------------------------------------------------------------------------------\n",
      "const         -6.765e+05   1.67e+04    -40.576      0.000   -7.09e+05   -6.44e+05\n",
      "grade          1.149e+05   3035.024     37.865      0.000    1.09e+05    1.21e+05\n",
      "sqft_living     246.3224      5.549     44.393      0.000     235.446     257.199\n",
      "sqft_above      -95.1962      5.454    -17.456      0.000    -105.886     -84.507\n",
      "sqft_living15    28.8967      4.948      5.840      0.000      19.198      38.595\n",
      "bathrooms     -2.924e+04   4251.716     -6.878      0.000   -3.76e+04   -2.09e+04\n",
      "==============================================================================\n",
      "Omnibus:                    10776.309   Durbin-Watson:                   1.991\n",
      "Prob(Omnibus):                  0.000   Jarque-Bera (JB):           499588.672\n",
      "Skew:                           3.115   Prob(JB):                         0.00\n",
      "Kurtosis:                      31.105   Cond. No.                     2.97e+04\n",
      "==============================================================================\n",
      "\n",
      "Notes:\n",
      "[1] Standard Errors assume that the covariance matrix of the errors is correctly specified.\n",
      "[2] The condition number is large, 2.97e+04. This might indicate that there are\n",
      "strong multicollinearity or other numerical problems.\n",
      "-------------\n",
      "RMSE on train data: 248,935\n",
      "RMSE on test data: 246,240\n"
     ]
    }
   ],
   "source": [
    "\n",
    "# Predictions to check the model\n",
    "print(\"-----  Evaluating the model ----\")\n",
    "predictions = model.predict(X_train)\n",
    "err_train = np.sqrt(mean_squared_error(y_train, predictions))\n",
    "predictions_test = model.predict(X_test)\n",
    "err_test = np.sqrt(mean_squared_error(y_test, predictions_test))\n",
    "\n",
    "\n",
    "print(print_model)\n",
    "print (\"-------------\")\n",
    "print (f\"RMSE on train data: {err_train:,.0f}\")\n",
    "print (f\"RMSE on test data: {err_test:,.0f}\")"
   ]
  },
  {
   "cell_type": "code",
   "execution_count": null,
   "metadata": {},
   "outputs": [],
   "source": []
  }
 ],
 "metadata": {
  "kernelspec": {
   "display_name": "Python 3",
   "language": "python",
   "name": "python3"
  },
  "language_info": {
   "codemirror_mode": {
    "name": "ipython",
    "version": 3
   },
   "file_extension": ".py",
   "mimetype": "text/x-python",
   "name": "python",
   "nbconvert_exporter": "python",
   "pygments_lexer": "ipython3",
   "version": "3.8.5"
  }
 },
 "nbformat": 4,
 "nbformat_minor": 4
}
